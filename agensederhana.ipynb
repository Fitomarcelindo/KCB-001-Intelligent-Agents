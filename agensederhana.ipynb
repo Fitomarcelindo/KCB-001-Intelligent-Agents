{
  "cells": [
    {
      "cell_type": "code",
      "execution_count": 1,
      "metadata": {
        "colab": {
          "base_uri": "https://localhost:8080/",
          "height": 521
        },
        "id": "jfX_LFMHS29p",
        "outputId": "e74ef958-90ff-4635-c959-03f5e79f66c6"
      },
      "outputs": [
        {
          "name": "stdout",
          "output_type": "stream",
          "text": [
            "suck\n"
          ]
        }
      ],
      "source": [
        "def SimpleReflexAgent(percept):\n",
        "    # Input: percept (current percept or sensor input)\n",
        "    # Output: action (action to be taken)\n",
        "\n",
        "    # Rules:\n",
        "    # Rule 1: IF percept = \"dirty\" THEN action = \"suck\"\n",
        "    # Rule 2: IF percept = \"clean\" THEN action = \"move\"\n",
        "\n",
        "    # Initialize rules\n",
        "    action = None\n",
        "\n",
        "    if percept == \"dirty\":\n",
        "        action = \"suck\"\n",
        "    elif percept == \"clean\":\n",
        "        action = \"move\"\n",
        "\n",
        "    return action\n",
        "\n",
        "# Contoh penggunaan:\n",
        "percept = \"dirty\"\n",
        "action = SimpleReflexAgent(percept)\n",
        "print(action)  # Output: \"suck\""
      ]
    }
  ],
  "metadata": {
    "colab": {
      "provenance": []
    },
    "kernelspec": {
      "display_name": "Python 3",
      "name": "python3"
    },
    "language_info": {
      "codemirror_mode": {
        "name": "ipython",
        "version": 3
      },
      "file_extension": ".py",
      "mimetype": "text/x-python",
      "name": "python",
      "nbconvert_exporter": "python",
      "pygments_lexer": "ipython3",
      "version": "3.11.2"
    }
  },
  "nbformat": 4,
  "nbformat_minor": 0
}
